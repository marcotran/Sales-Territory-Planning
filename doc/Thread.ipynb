{
 "cells": [
  {
   "cell_type": "code",
   "execution_count": 1,
   "metadata": {
    "collapsed": true
   },
   "outputs": [],
   "source": [
    "import threading\n"
   ]
  },
  {
   "cell_type": "code",
   "execution_count": 2,
   "metadata": {
    "collapsed": true
   },
   "outputs": [],
   "source": [
    "def run_item(f, item):\n",
    "    result_info = [threading.Event(), None]\n",
    "    def runit():\n",
    "        result_info[1] = f(item)\n",
    "        result_info[0].set()\n",
    "    threading.Thread(target=runit).start()\n",
    "    return result_info"
   ]
  },
  {
   "cell_type": "code",
   "execution_count": 8,
   "metadata": {
    "collapsed": true
   },
   "outputs": [],
   "source": [
    "def gather_results(result_infos):\n",
    "    results = [] \n",
    "    for i in range(len(result_infos)):\n",
    "        result_infos[i][0].wait()\n",
    "        results.append(result_infos[i][1])\n",
    "    return results"
   ]
  },
  {
   "cell_type": "code",
   "execution_count": 9,
   "metadata": {},
   "outputs": [],
   "source": [
    "import time\n",
    "items = [1,2,3,4,5,6]\n",
    "\n",
    "def proc(item):\n",
    "    time.sleep(2.0)\n",
    "    return item * 2\n",
    "\n",
    "#start processing the items\n",
    "result_infos = [run_item(proc, item) for item in items]\n",
    "#gather the results (blocking)\n",
    "results = gather_results(result_infos)"
   ]
  },
  {
   "cell_type": "code",
   "execution_count": 10,
   "metadata": {},
   "outputs": [
    {
     "data": {
      "text/plain": [
       "[2, 4, 6, 8, 10, 12]"
      ]
     },
     "execution_count": 10,
     "metadata": {},
     "output_type": "execute_result"
    }
   ],
   "source": [
    "results"
   ]
  }
 ],
 "metadata": {
  "kernelspec": {
   "display_name": "Python 3",
   "language": "python",
   "name": "python3"
  },
  "language_info": {
   "codemirror_mode": {
    "name": "ipython",
    "version": 3
   },
   "file_extension": ".py",
   "mimetype": "text/x-python",
   "name": "python",
   "nbconvert_exporter": "python",
   "pygments_lexer": "ipython3",
   "version": "3.6.0"
  }
 },
 "nbformat": 4,
 "nbformat_minor": 2
}
