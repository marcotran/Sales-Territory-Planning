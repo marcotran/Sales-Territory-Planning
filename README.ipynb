{
 "cells": [
  {
   "cell_type": "markdown",
   "metadata": {},
   "source": [
    "# Otimização na Reconfiguração de Território de Vendas utilizando Algoritmos Genéticos"
   ]
  },
  {
   "cell_type": "markdown",
   "metadata": {},
   "source": [
    "O planejamento de território para vendas pode ser formulado como um problema de otimização, em que cada território (cidade, bairro, rua, cliente.. etc) deve ser alocado para um **melhor representante** de acordo com alguns critérios e restrições. \n",
    "\n",
    "Usualmente o planejamento é realizado a cada período de tempo (um ano, uma semana... ), levando em consideração o tempo necessário para o representante visitar todos os territórios de vendas. \n",
    "\n",
    "O objetivo da otimização depende do problema, mas de forma geral são otimizadas características como:\n",
    "\n",
    "* Minimização da distância percorrida, ou seja, manter territórios compáctos \n",
    "* Balanceamento de tempo de trabalho/atendimento\n",
    "* Balanceamento dos ganhos em cada território"
   ]
  },
  {
   "cell_type": "markdown",
   "metadata": {},
   "source": [
    "## Modelo Matemático"
   ]
  },
  {
   "cell_type": "markdown",
   "metadata": {},
   "source": [
    "A maioria das pesquisas realizadas para resolver o problema de alocação de territórios têm os mesmos critérios básicos em relação ao agrupamento de territórios:\n",
    "\n",
    "* **compactos**, em que o mesmo representante esteja alocado de forma compacta\n",
    "* **contínua**, o território tem que ser contínuo para facilitar a movimentação do representante entre os territórios\n",
    "* **equilíbrio de territórios**, tenha um equilibrio entre os territórios de todos os representantes"
   ]
  },
  {
   "cell_type": "markdown",
   "metadata": {},
   "source": []
  },
  {
   "cell_type": "markdown",
   "metadata": {},
   "source": [
    "## Biblioteca"
   ]
  },
  {
   "cell_type": "code",
   "execution_count": null,
   "metadata": {
    "collapsed": true
   },
   "outputs": [],
   "source": [
    "\n"
   ]
  },
  {
   "cell_type": "markdown",
   "metadata": {},
   "source": [
    "## Parametrização"
   ]
  },
  {
   "cell_type": "code",
   "execution_count": null,
   "metadata": {
    "collapsed": true
   },
   "outputs": [],
   "source": []
  },
  {
   "cell_type": "markdown",
   "metadata": {},
   "source": [
    "### Input"
   ]
  },
  {
   "cell_type": "code",
   "execution_count": 1,
   "metadata": {
    "collapsed": true
   },
   "outputs": [],
   "source": [
    "import pandas as pd\n"
   ]
  },
  {
   "cell_type": "code",
   "execution_count": 3,
   "metadata": {
    "collapsed": true
   },
   "outputs": [],
   "source": [
    "df = pd.read_csv('input/input_data.csv')"
   ]
  },
  {
   "cell_type": "code",
   "execution_count": 4,
   "metadata": {},
   "outputs": [
    {
     "data": {
      "text/html": [
       "<div>\n",
       "<style scoped>\n",
       "    .dataframe tbody tr th:only-of-type {\n",
       "        vertical-align: middle;\n",
       "    }\n",
       "\n",
       "    .dataframe tbody tr th {\n",
       "        vertical-align: top;\n",
       "    }\n",
       "\n",
       "    .dataframe thead th {\n",
       "        text-align: right;\n",
       "    }\n",
       "</style>\n",
       "<table border=\"1\" class=\"dataframe\">\n",
       "  <thead>\n",
       "    <tr style=\"text-align: right;\">\n",
       "      <th></th>\n",
       "      <th>Unnamed: 0</th>\n",
       "      <th>client_id</th>\n",
       "      <th>client_lat</th>\n",
       "      <th>client_lon</th>\n",
       "      <th>client_revenue_avg</th>\n",
       "      <th>salesman_id</th>\n",
       "      <th>salesman_lon</th>\n",
       "      <th>salesman_lat</th>\n",
       "      <th>salesman_cost</th>\n",
       "      <th>visit_in_month</th>\n",
       "      <th>time_to_attend</th>\n",
       "    </tr>\n",
       "  </thead>\n",
       "  <tbody>\n",
       "    <tr>\n",
       "      <th>0</th>\n",
       "      <td>0</td>\n",
       "      <td>21007</td>\n",
       "      <td>-15.537520</td>\n",
       "      <td>-47.334410</td>\n",
       "      <td>337.37</td>\n",
       "      <td>710</td>\n",
       "      <td>-47.332794</td>\n",
       "      <td>-15.546893</td>\n",
       "      <td>3699.12</td>\n",
       "      <td>4</td>\n",
       "      <td>29</td>\n",
       "    </tr>\n",
       "    <tr>\n",
       "      <th>1</th>\n",
       "      <td>1</td>\n",
       "      <td>9695</td>\n",
       "      <td>-15.556338</td>\n",
       "      <td>-49.936802</td>\n",
       "      <td>299.83</td>\n",
       "      <td>730</td>\n",
       "      <td>-49.948030</td>\n",
       "      <td>-15.565373</td>\n",
       "      <td>3501.14</td>\n",
       "      <td>4</td>\n",
       "      <td>26</td>\n",
       "    </tr>\n",
       "    <tr>\n",
       "      <th>2</th>\n",
       "      <td>2</td>\n",
       "      <td>12995</td>\n",
       "      <td>-16.328420</td>\n",
       "      <td>-48.921938</td>\n",
       "      <td>40.83</td>\n",
       "      <td>517</td>\n",
       "      <td>-48.944700</td>\n",
       "      <td>-16.345725</td>\n",
       "      <td>3414.66</td>\n",
       "      <td>4</td>\n",
       "      <td>24</td>\n",
       "    </tr>\n",
       "    <tr>\n",
       "      <th>3</th>\n",
       "      <td>3</td>\n",
       "      <td>8384</td>\n",
       "      <td>-15.895782</td>\n",
       "      <td>-52.253200</td>\n",
       "      <td>498.78</td>\n",
       "      <td>696</td>\n",
       "      <td>-51.108563</td>\n",
       "      <td>-16.441200</td>\n",
       "      <td>5008.80</td>\n",
       "      <td>4</td>\n",
       "      <td>25</td>\n",
       "    </tr>\n",
       "    <tr>\n",
       "      <th>4</th>\n",
       "      <td>4</td>\n",
       "      <td>7458</td>\n",
       "      <td>-16.652013</td>\n",
       "      <td>-49.156566</td>\n",
       "      <td>3174.63</td>\n",
       "      <td>574</td>\n",
       "      <td>-48.957236</td>\n",
       "      <td>-16.321473</td>\n",
       "      <td>3100.00</td>\n",
       "      <td>2</td>\n",
       "      <td>48</td>\n",
       "    </tr>\n",
       "  </tbody>\n",
       "</table>\n",
       "</div>"
      ],
      "text/plain": [
       "   Unnamed: 0  client_id  client_lat  client_lon  client_revenue_avg  \\\n",
       "0           0      21007  -15.537520  -47.334410              337.37   \n",
       "1           1       9695  -15.556338  -49.936802              299.83   \n",
       "2           2      12995  -16.328420  -48.921938               40.83   \n",
       "3           3       8384  -15.895782  -52.253200              498.78   \n",
       "4           4       7458  -16.652013  -49.156566             3174.63   \n",
       "\n",
       "   salesman_id  salesman_lon  salesman_lat  salesman_cost  visit_in_month  \\\n",
       "0          710    -47.332794    -15.546893        3699.12               4   \n",
       "1          730    -49.948030    -15.565373        3501.14               4   \n",
       "2          517    -48.944700    -16.345725        3414.66               4   \n",
       "3          696    -51.108563    -16.441200        5008.80               4   \n",
       "4          574    -48.957236    -16.321473        3100.00               2   \n",
       "\n",
       "   time_to_attend  \n",
       "0              29  \n",
       "1              26  \n",
       "2              24  \n",
       "3              25  \n",
       "4              48  "
      ]
     },
     "execution_count": 4,
     "metadata": {},
     "output_type": "execute_result"
    }
   ],
   "source": [
    "df.head()"
   ]
  },
  {
   "cell_type": "code",
   "execution_count": 5,
   "metadata": {},
   "outputs": [
    {
     "name": "stdout",
     "output_type": "stream",
     "text": [
      "<class 'pandas.core.frame.DataFrame'>\n",
      "RangeIndex: 3922 entries, 0 to 3921\n",
      "Data columns (total 11 columns):\n",
      "Unnamed: 0            3922 non-null int64\n",
      "client_id             3922 non-null int64\n",
      "client_lat            3922 non-null float64\n",
      "client_lon            3922 non-null float64\n",
      "client_revenue_avg    3922 non-null float64\n",
      "salesman_id           3922 non-null int64\n",
      "salesman_lon          3922 non-null float64\n",
      "salesman_lat          3922 non-null float64\n",
      "salesman_cost         3922 non-null float64\n",
      "visit_in_month        3922 non-null int64\n",
      "time_to_attend        3922 non-null int64\n",
      "dtypes: float64(6), int64(5)\n",
      "memory usage: 337.1 KB\n"
     ]
    }
   ],
   "source": [
    "df.info()"
   ]
  },
  {
   "cell_type": "code",
   "execution_count": 6,
   "metadata": {
    "collapsed": true
   },
   "outputs": [],
   "source": [
    "dfm = pd.read_csv('input/priority.csv')"
   ]
  },
  {
   "cell_type": "code",
   "execution_count": 7,
   "metadata": {},
   "outputs": [
    {
     "name": "stdout",
     "output_type": "stream",
     "text": [
      "<class 'pandas.core.frame.DataFrame'>\n",
      "RangeIndex: 258852 entries, 0 to 258851\n",
      "Data columns (total 4 columns):\n",
      "Unnamed: 0     258852 non-null int64\n",
      "client_id      258852 non-null int64\n",
      "salesman_id    258852 non-null int64\n",
      "priority       258852 non-null float64\n",
      "dtypes: float64(1), int64(3)\n",
      "memory usage: 7.9 MB\n"
     ]
    }
   ],
   "source": [
    "dfm.info()"
   ]
  }
 ],
 "metadata": {
  "kernelspec": {
   "display_name": "Python 3",
   "language": "python",
   "name": "python3"
  },
  "language_info": {
   "codemirror_mode": {
    "name": "ipython",
    "version": 3
   },
   "file_extension": ".py",
   "mimetype": "text/x-python",
   "name": "python",
   "nbconvert_exporter": "python",
   "pygments_lexer": "ipython3",
   "version": "3.6.0"
  }
 },
 "nbformat": 4,
 "nbformat_minor": 2
}
